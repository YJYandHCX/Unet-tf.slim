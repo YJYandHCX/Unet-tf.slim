{
 "cells": [
  {
   "cell_type": "code",
   "execution_count": 4,
   "metadata": {},
   "outputs": [],
   "source": [
    "import cv2\n",
    "import numpy as np\n",
    "import pickle"
   ]
  },
  {
   "cell_type": "code",
   "execution_count": 20,
   "metadata": {},
   "outputs": [],
   "source": [
    "class CADF():\n",
    "    def __init__(self):\n",
    "        self.image_size = 300\n",
    "        self.pic_path = './train/json/'\n",
    "        self.label_path = './train/label/'\n",
    "        self.batch_size = 5\n",
    "        self.num_channel = 3\n",
    "        \n",
    "    def im_read(self,read_path):\n",
    "        im = cv2.imread(read_path)\n",
    "        im = cv2.resize(im,(self.image_size,self.image_size))\n",
    "        im = cv2.cvtColor(im, cv2.COLOR_BGR2RGB)\n",
    "        im = (im/255.0)*2.0-1.0\n",
    "        return im\n",
    "    \n",
    "    def label_read(self,read_path):\n",
    "        la_f = open(read_path,'rb')\n",
    "        label = pickle.load(la_f)\n",
    "        la_f.close()\n",
    "        return label\n",
    "        \n",
    "    def batch_picture(self,start,end):\n",
    "        images = np.zeros([self.batch_size,self.image_size,self.image_size,self.num_channel],dtype = np.float32)\n",
    "        for i in range(self.batch_size):\n",
    "            read_path = self.pic_path + str(i+start) + '.jpg'\n",
    "            im = self.im_read(read_path)\n",
    "            images[i,:,:,:] = im\n",
    "        return images\n",
    "    \n",
    "    def batch_label(self,start,end):\n",
    "        labels = np.zeros([self.batch_size,self.image_size,self.image_size],dtype = np.int32)\n",
    "        for i in range(self.batch_size):\n",
    "            read_path = self.label_path + str(i+start) + '.pkl'\n",
    "            la = self.label_read(read_path)\n",
    "            labels[i,:,:] = la\n",
    "        return labels\n",
    "    def batch_prepare(self,steps):\n",
    "        start = steps*self.batch_size%200+1\n",
    "        end = start + self.batch_size -1 \n",
    "        #print (start)\n",
    "        #print (end)\n",
    "        images = self.batch_picture(start,end)\n",
    "        labels = self.batch_label(start,end)\n",
    "        return images,labels"
   ]
  },
  {
   "cell_type": "code",
   "execution_count": 21,
   "metadata": {},
   "outputs": [],
   "source": [
    "#ata = CADF()"
   ]
  },
  {
   "cell_type": "code",
   "execution_count": 25,
   "metadata": {},
   "outputs": [],
   "source": [
    "#import matplotlib.pyplot as plt\n",
    "#images,labels = data.batch_prepare(40)"
   ]
  },
  {
   "cell_type": "code",
   "execution_count": 28,
   "metadata": {
    "scrolled": true
   },
   "outputs": [],
   "source": [
    "#for i in range(5):\n",
    "#    plt.imshow(images[i])\n",
    "#    plt.show()"
   ]
  },
  {
   "cell_type": "code",
   "execution_count": 29,
   "metadata": {},
   "outputs": [],
   "source": [
    "#for i in range(5):\n",
    "#    im = np.zeros([300,300,3])\n",
    "#    for k in range(300):\n",
    "#        for o in range(300):\n",
    "#            if labels[i,k,o] == 1:\n",
    "#                im[k,o,0] = 255\n",
    "#    plt.imshow(im)\n",
    "#    plt.show()"
   ]
  },
  {
   "cell_type": "code",
   "execution_count": null,
   "metadata": {},
   "outputs": [],
   "source": []
  }
 ],
 "metadata": {
  "kernelspec": {
   "display_name": "Python 3",
   "language": "python",
   "name": "python3"
  },
  "language_info": {
   "codemirror_mode": {
    "name": "ipython",
    "version": 3
   },
   "file_extension": ".py",
   "mimetype": "text/x-python",
   "name": "python",
   "nbconvert_exporter": "python",
   "pygments_lexer": "ipython3",
   "version": "3.6.8"
  }
 },
 "nbformat": 4,
 "nbformat_minor": 2
}
